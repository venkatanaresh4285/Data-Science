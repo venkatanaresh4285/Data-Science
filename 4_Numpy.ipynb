{
  "nbformat": 4,
  "nbformat_minor": 0,
  "metadata": {
    "colab": {
      "provenance": [],
      "authorship_tag": "ABX9TyMKBmselpPMxS31y4CMMT0v",
      "include_colab_link": true
    },
    "kernelspec": {
      "name": "python3",
      "display_name": "Python 3"
    },
    "language_info": {
      "name": "python"
    }
  },
  "cells": [
    {
      "cell_type": "markdown",
      "metadata": {
        "id": "view-in-github",
        "colab_type": "text"
      },
      "source": [
        "<a href=\"https://colab.research.google.com/github/venkatanaresh4285/Data-Science/blob/main/4_Numpy.ipynb\" target=\"_parent\"><img src=\"https://colab.research.google.com/assets/colab-badge.svg\" alt=\"Open In Colab\"/></a>"
      ]
    },
    {
      "cell_type": "code",
      "execution_count": 2,
      "metadata": {
        "colab": {
          "base_uri": "https://localhost:8080/"
        },
        "id": "2JnlhSKPq92d",
        "outputId": "3690f316-0bbf-4365-b4c2-08ca2ed46964"
      },
      "outputs": [
        {
          "output_type": "stream",
          "name": "stdout",
          "text": [
            "The elements after merging is  [[1 2 3 4]\n",
            " [5 6 7 8]]\n"
          ]
        }
      ],
      "source": [
        "import numpy as np\n",
        "arr=np.array([1,2,3,4])\n",
        "arr2=np.array([5,6,7,8])\n",
        "print(\"The elements after merging is \",np.vstack((arr,arr2)))"
      ]
    },
    {
      "cell_type": "code",
      "source": [
        "arr1=np.array([[1,3,5,7,9],\n",
        "               [2,3,4,5,6]])\n",
        "arr3=np.array([[3,4,5,6,7],\n",
        "               [1,2,5,7,3]])\n",
        "print(\"Merging though horizantal\",np.hstack((arr1,arr3)))"
      ],
      "metadata": {
        "colab": {
          "base_uri": "https://localhost:8080/"
        },
        "id": "znK9MEqCrra7",
        "outputId": "77ff8916-3ae9-46b8-96d0-086ca084c6e8"
      },
      "execution_count": 3,
      "outputs": [
        {
          "output_type": "stream",
          "name": "stdout",
          "text": [
            "Merging though horizantal [[1 3 5 7 9 3 4 5 6 7]\n",
            " [2 3 4 5 6 1 2 5 7 3]]\n"
          ]
        }
      ]
    },
    {
      "cell_type": "code",
      "source": [
        "np.concatenate((arr1,arr3),axis=0)"
      ],
      "metadata": {
        "colab": {
          "base_uri": "https://localhost:8080/"
        },
        "id": "gIiT9pc8sEzT",
        "outputId": "0a41bd1c-62b2-4340-f340-18009b77fe0c"
      },
      "execution_count": 21,
      "outputs": [
        {
          "output_type": "execute_result",
          "data": {
            "text/plain": [
              "array([[1, 3, 5, 7, 9],\n",
              "       [2, 3, 4, 5, 6],\n",
              "       [3, 4, 5, 6, 7],\n",
              "       [1, 2, 5, 7, 3]])"
            ]
          },
          "metadata": {},
          "execution_count": 21
        }
      ]
    },
    {
      "cell_type": "code",
      "source": [
        "np.concatenate((arr1,arr3),axis=1)"
      ],
      "metadata": {
        "colab": {
          "base_uri": "https://localhost:8080/"
        },
        "id": "lpjGuoUCs0mU",
        "outputId": "033d8967-13e1-4bcd-e107-266c3a6cf741"
      },
      "execution_count": 12,
      "outputs": [
        {
          "output_type": "execute_result",
          "data": {
            "text/plain": [
              "array([[1, 3, 5, 7, 9, 3, 4, 5, 6, 7],\n",
              "       [2, 3, 4, 5, 6, 1, 2, 5, 7, 3]])"
            ]
          },
          "metadata": {},
          "execution_count": 12
        }
      ]
    },
    {
      "cell_type": "code",
      "source": [
        "np.hsplit(arr1,1)"
      ],
      "metadata": {
        "colab": {
          "base_uri": "https://localhost:8080/"
        },
        "id": "Luw0_b-rs7AO",
        "outputId": "93d94d9d-7f40-4eeb-8818-ba9af2a42dbc"
      },
      "execution_count": 26,
      "outputs": [
        {
          "output_type": "execute_result",
          "data": {
            "text/plain": [
              "[array([[1, 3, 5, 7, 9],\n",
              "        [2, 3, 4, 5, 6]])]"
            ]
          },
          "metadata": {},
          "execution_count": 26
        }
      ]
    },
    {
      "cell_type": "code",
      "source": [
        "np.vsplit(arr3,2)"
      ],
      "metadata": {
        "colab": {
          "base_uri": "https://localhost:8080/"
        },
        "id": "zQzohVVzuBcW",
        "outputId": "c2c457a8-4066-4b90-b266-188ddfc09706"
      },
      "execution_count": 29,
      "outputs": [
        {
          "output_type": "execute_result",
          "data": {
            "text/plain": [
              "[array([[3, 4, 5, 6, 7]]), array([[1, 2, 5, 7, 3]])]"
            ]
          },
          "metadata": {},
          "execution_count": 29
        }
      ]
    },
    {
      "cell_type": "code",
      "source": [
        "import numpy as np\n"
      ],
      "metadata": {
        "id": "v0_ZgdKdvNjK"
      },
      "execution_count": 30,
      "outputs": []
    },
    {
      "cell_type": "code",
      "source": [
        "sl=np.array([1,3,4,5,6,7,8,9,10])\n",
        "print(sl[3:-3])"
      ],
      "metadata": {
        "colab": {
          "base_uri": "https://localhost:8080/"
        },
        "id": "ok72tQMSvSrL",
        "outputId": "8e7f2b06-4d91-4846-8f88-7b9317386b9f"
      },
      "execution_count": 32,
      "outputs": [
        {
          "output_type": "stream",
          "name": "stdout",
          "text": [
            "[5 6 7]\n"
          ]
        }
      ]
    },
    {
      "cell_type": "code",
      "source": [
        "sl_2=np.array([[1,2,3,4,5],\n",
        "               [3,4,5,6,7],\n",
        "               [5,6,7,8,9],\n",
        "               [1,2,3,7,3]])"
      ],
      "metadata": {
        "id": "yX08J8xsvmPW"
      },
      "execution_count": 35,
      "outputs": []
    },
    {
      "cell_type": "code",
      "source": [
        "sl_2[: 2 , :2]"
      ],
      "metadata": {
        "colab": {
          "base_uri": "https://localhost:8080/"
        },
        "id": "n5KVh9bLy89J",
        "outputId": "85979c1f-6980-48ca-e1e9-3b8e64b29274"
      },
      "execution_count": 42,
      "outputs": [
        {
          "output_type": "execute_result",
          "data": {
            "text/plain": [
              "array([[1, 2],\n",
              "       [3, 4]])"
            ]
          },
          "metadata": {},
          "execution_count": 42
        }
      ]
    },
    {
      "cell_type": "code",
      "source": [
        "sl_2[1,2]"
      ],
      "metadata": {
        "colab": {
          "base_uri": "https://localhost:8080/"
        },
        "id": "L3wVvOahzw6S",
        "outputId": "a3b827c0-83b7-4005-bcc8-d02f3da8414e"
      },
      "execution_count": 43,
      "outputs": [
        {
          "output_type": "execute_result",
          "data": {
            "text/plain": [
              "5"
            ]
          },
          "metadata": {},
          "execution_count": 43
        }
      ]
    },
    {
      "cell_type": "code",
      "source": [
        "sl_2[2,4]"
      ],
      "metadata": {
        "colab": {
          "base_uri": "https://localhost:8080/"
        },
        "id": "UGQz14Waz1K5",
        "outputId": "222f9e12-f46d-48cc-c3c6-791da3b622fc"
      },
      "execution_count": 44,
      "outputs": [
        {
          "output_type": "execute_result",
          "data": {
            "text/plain": [
              "9"
            ]
          },
          "metadata": {},
          "execution_count": 44
        }
      ]
    },
    {
      "cell_type": "code",
      "source": [
        "sl_2[1: ,1:]#removing the first row and first column"
      ],
      "metadata": {
        "colab": {
          "base_uri": "https://localhost:8080/"
        },
        "id": "9L1vph1Bz4CK",
        "outputId": "8b38a9eb-a762-4dd0-afce-2db2e6d5e950"
      },
      "execution_count": 45,
      "outputs": [
        {
          "output_type": "execute_result",
          "data": {
            "text/plain": [
              "array([[4, 5, 6, 7],\n",
              "       [6, 7, 8, 9],\n",
              "       [2, 3, 7, 3]])"
            ]
          },
          "metadata": {},
          "execution_count": 45
        }
      ]
    },
    {
      "cell_type": "code",
      "source": [
        "sl_2[: 1,:1]#it prints only first row first column element"
      ],
      "metadata": {
        "colab": {
          "base_uri": "https://localhost:8080/"
        },
        "id": "IXmmLHY90JvW",
        "outputId": "1aa69f20-622e-4138-c939-b24a4ef405c4"
      },
      "execution_count": 46,
      "outputs": [
        {
          "output_type": "execute_result",
          "data": {
            "text/plain": [
              "array([[1]])"
            ]
          },
          "metadata": {},
          "execution_count": 46
        }
      ]
    },
    {
      "cell_type": "code",
      "source": [
        "import numpys as np\n"
      ],
      "metadata": {
        "id": "gWNp-IxK0U0g"
      },
      "execution_count": null,
      "outputs": []
    },
    {
      "cell_type": "code",
      "source": [
        "#counting elements using list\n",
        "count=0\n",
        "lst=[1,2,3,4,5,6,7,8,9,10]\n",
        "for i in lst:\n",
        "  if(i>5):\n",
        "    count+=1\n",
        "print(count)"
      ],
      "metadata": {
        "colab": {
          "base_uri": "https://localhost:8080/"
        },
        "id": "080crazB0XmW",
        "outputId": "2989f671-d040-4e6d-9821-23582357f647"
      },
      "execution_count": 48,
      "outputs": [
        {
          "output_type": "stream",
          "name": "stdout",
          "text": [
            "5\n"
          ]
        }
      ]
    },
    {
      "cell_type": "code",
      "source": [
        "lst=np.array([1,2,3,4,5,6,7,8,9,10])"
      ],
      "metadata": {
        "id": "3GtHY_BI0yyQ"
      },
      "execution_count": 49,
      "outputs": []
    },
    {
      "cell_type": "code",
      "source": [
        "lst>5"
      ],
      "metadata": {
        "colab": {
          "base_uri": "https://localhost:8080/"
        },
        "id": "0eY-h4Mw1AQR",
        "outputId": "fb6dfdc0-6fef-4e95-9b4e-508415a13f98"
      },
      "execution_count": 50,
      "outputs": [
        {
          "output_type": "execute_result",
          "data": {
            "text/plain": [
              "array([False, False, False, False, False,  True,  True,  True,  True,\n",
              "        True])"
            ]
          },
          "metadata": {},
          "execution_count": 50
        }
      ]
    },
    {
      "cell_type": "code",
      "source": [
        "lst[lst>5]"
      ],
      "metadata": {
        "colab": {
          "base_uri": "https://localhost:8080/"
        },
        "id": "J_GwpYSU1LFC",
        "outputId": "d85f9f7d-bbad-4368-9112-d20d64ff0935"
      },
      "execution_count": 51,
      "outputs": [
        {
          "output_type": "execute_result",
          "data": {
            "text/plain": [
              "array([ 6,  7,  8,  9, 10])"
            ]
          },
          "metadata": {},
          "execution_count": 51
        }
      ]
    },
    {
      "cell_type": "code",
      "source": [
        "len(lst[lst>5])"
      ],
      "metadata": {
        "colab": {
          "base_uri": "https://localhost:8080/"
        },
        "id": "QqFdS_Zb1gaw",
        "outputId": "57c804a5-eaba-4cae-8e67-0c0e559bab53"
      },
      "execution_count": 52,
      "outputs": [
        {
          "output_type": "execute_result",
          "data": {
            "text/plain": [
              "5"
            ]
          },
          "metadata": {},
          "execution_count": 52
        }
      ]
    },
    {
      "cell_type": "code",
      "source": [
        "len(lst[lst%3==0])"
      ],
      "metadata": {
        "colab": {
          "base_uri": "https://localhost:8080/"
        },
        "id": "_Kk0HGUu1oPY",
        "outputId": "13104b36-1cf1-4643-e264-ad7fcdc7dd6a"
      },
      "execution_count": 53,
      "outputs": [
        {
          "output_type": "execute_result",
          "data": {
            "text/plain": [
              "3"
            ]
          },
          "metadata": {},
          "execution_count": 53
        }
      ]
    },
    {
      "cell_type": "code",
      "source": [
        "lst[lst%3==0]"
      ],
      "metadata": {
        "colab": {
          "base_uri": "https://localhost:8080/"
        },
        "id": "AC-N9AUU1t1M",
        "outputId": "b6b9a254-932c-42f7-c908-f01e2a003956"
      },
      "execution_count": 54,
      "outputs": [
        {
          "output_type": "execute_result",
          "data": {
            "text/plain": [
              "array([3, 6, 9])"
            ]
          },
          "metadata": {},
          "execution_count": 54
        }
      ]
    }
  ]
}