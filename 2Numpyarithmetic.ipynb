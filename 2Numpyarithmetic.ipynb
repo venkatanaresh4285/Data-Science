{
  "nbformat": 4,
  "nbformat_minor": 0,
  "metadata": {
    "colab": {
      "provenance": [],
      "authorship_tag": "ABX9TyMCIIoQoFOyFpANgdi93l+e",
      "include_colab_link": true
    },
    "kernelspec": {
      "name": "python3",
      "display_name": "Python 3"
    },
    "language_info": {
      "name": "python"
    }
  },
  "cells": [
    {
      "cell_type": "markdown",
      "metadata": {
        "id": "view-in-github",
        "colab_type": "text"
      },
      "source": [
        "<a href=\"https://colab.research.google.com/github/venkatanaresh4285/Data-Science/blob/main/2Numpyarithmetic.ipynb\" target=\"_parent\"><img src=\"https://colab.research.google.com/assets/colab-badge.svg\" alt=\"Open In Colab\"/></a>"
      ]
    },
    {
      "cell_type": "code",
      "execution_count": 3,
      "metadata": {
        "id": "4xxDzJwBae_P"
      },
      "outputs": [],
      "source": [
        "import numpy as np\n",
        "\n",
        "a=np.array([2,3,4,5,6])\n",
        "b=np.array([5,6,7,8,9])\n",
        "\n",
        "ans=a+b\n"
      ]
    },
    {
      "cell_type": "code",
      "source": [
        "ans"
      ],
      "metadata": {
        "colab": {
          "base_uri": "https://localhost:8080/"
        },
        "id": "SFBpxXl9bIjF",
        "outputId": "1d27660e-bf4e-4fae-e3ce-3d3084c41e07"
      },
      "execution_count": 4,
      "outputs": [
        {
          "output_type": "execute_result",
          "data": {
            "text/plain": [
              "array([ 7,  9, 11, 13, 15])"
            ]
          },
          "metadata": {},
          "execution_count": 4
        }
      ]
    },
    {
      "cell_type": "code",
      "source": [
        "ans=np.add(a,b)\n",
        "print(ans)"
      ],
      "metadata": {
        "colab": {
          "base_uri": "https://localhost:8080/"
        },
        "id": "8lXFF-vmbOwu",
        "outputId": "d8a88121-7ab6-4d73-ecfd-24fd54af7225"
      },
      "execution_count": 12,
      "outputs": [
        {
          "output_type": "stream",
          "name": "stdout",
          "text": [
            "[ 7  9 11 13 15]\n"
          ]
        }
      ]
    },
    {
      "cell_type": "code",
      "source": [
        "c=np.array([1,3,5,7,9])\n",
        "ans=a+b+c\n",
        "print(ans)"
      ],
      "metadata": {
        "colab": {
          "base_uri": "https://localhost:8080/"
        },
        "id": "sLCPMUGLbXtc",
        "outputId": "72b91411-2c77-46b9-ed70-e6e36483e197"
      },
      "execution_count": 13,
      "outputs": [
        {
          "output_type": "stream",
          "name": "stdout",
          "text": [
            "[ 8 12 16 20 24]\n"
          ]
        }
      ]
    },
    {
      "cell_type": "code",
      "source": [
        "ans=np.add(a,b,c)\n",
        "print(ans)"
      ],
      "metadata": {
        "colab": {
          "base_uri": "https://localhost:8080/"
        },
        "id": "Rd-dJsNGbj6T",
        "outputId": "a0c45d6d-54fd-4ee9-c97e-f14d58b0e71c"
      },
      "execution_count": 14,
      "outputs": [
        {
          "output_type": "stream",
          "name": "stdout",
          "text": [
            "[ 7  9 11 13 15]\n"
          ]
        }
      ]
    },
    {
      "cell_type": "code",
      "source": [
        "#This is Subtraction using numpy\n",
        "import numpy as np\n",
        "a=np.array([5,6,7,8,9])\n",
        "b=np.array([1,3,5,7,9])\n",
        "# here We subtracted using operator\n",
        "ans_sb=a-b\n",
        "print(ans_sb)\n",
        "#We have a function called subtract in array\n",
        "ans_sb=np.subtract(a,b)\n",
        "print(ans_sb)\n",
        "\n",
        "c=np.array([1,2,3,4,5])\n",
        "ans_sb=a-b-c\n",
        "print(ans_sb)\n"
      ],
      "metadata": {
        "colab": {
          "base_uri": "https://localhost:8080/"
        },
        "id": "47br-pBVcOch",
        "outputId": "40ae4ce3-86f1-47b0-9898-58fb2f896f29"
      },
      "execution_count": 22,
      "outputs": [
        {
          "output_type": "stream",
          "name": "stdout",
          "text": [
            "[4 3 2 1 0]\n",
            "[4 3 2 1 0]\n",
            "[ 3  1 -1 -3 -5]\n"
          ]
        }
      ]
    },
    {
      "cell_type": "code",
      "source": [
        "#This is multiplication of arrays using numpy\n",
        "import numpy as np\n",
        "a=np.array([1,2,3,4,5])\n",
        "b=np.array([2,3,4,5,6])\n",
        "\n",
        "ans_ml=a*b\n",
        "print(ans_ml)\n",
        "\n",
        "#We can multiply using the multiply method available in numpy\n",
        "ans_ml=np.multiply(a,b)\n",
        "print(ans_ml)\n"
      ],
      "metadata": {
        "colab": {
          "base_uri": "https://localhost:8080/"
        },
        "id": "8OoOi14TdPCz",
        "outputId": "a1410f91-757a-46c2-e6b8-0bd078374ebb"
      },
      "execution_count": 27,
      "outputs": [
        {
          "output_type": "stream",
          "name": "stdout",
          "text": [
            "[ 2  6 12 20 30]\n",
            "[ 2  6 12 20 30]\n"
          ]
        }
      ]
    },
    {
      "cell_type": "code",
      "source": [
        "#This is division of elemenets using Numpy\n",
        "import numpy as np\n",
        "a=np.array([1,2,3,4,5])\n",
        "b=np.array([3,4,5,6,7])\n",
        "ans_d=a/b\n",
        "print(ans_d)\n",
        "\n",
        "ans_d=np.divide(a,b)\n",
        "print(ans_d)"
      ],
      "metadata": {
        "colab": {
          "base_uri": "https://localhost:8080/"
        },
        "id": "hfgjgs0HeXbi",
        "outputId": "74ff481e-723c-4b65-c94c-fc650ee306f4"
      },
      "execution_count": 30,
      "outputs": [
        {
          "output_type": "stream",
          "name": "stdout",
          "text": [
            "[0.33333333 0.5        0.6        0.66666667 0.71428571]\n",
            "[0.33333333 0.5        0.6        0.66666667 0.71428571]\n"
          ]
        }
      ]
    },
    {
      "cell_type": "code",
      "source": [
        "#This is finding maximum and minimum element using numpy in one dimensional array\n",
        "import numpy as np\n",
        "a=np.array([1,2,3,4,5])\n",
        "b=np.array([4,5,6,7,8])\n",
        "\n",
        "maxia=np.max(a)\n",
        "maxib=np.max(b)\n",
        "minia=np.min(a)\n",
        "minib=np.min(b)\n",
        "\n",
        "print(\"Maximum element in the Array a is: \",maxia)\n",
        "print(\"Maximum element in Arrray b is : \",maxib)\n",
        "print(\"Minimum element in the Arrray a is : \",minia)\n",
        "print(\"Minimum element in Arrray b is :\",minib)"
      ],
      "metadata": {
        "colab": {
          "base_uri": "https://localhost:8080/"
        },
        "id": "Em2pbGHQe2rh",
        "outputId": "0c11a655-42dc-4b76-91cf-ba2ea5cc3590"
      },
      "execution_count": 31,
      "outputs": [
        {
          "output_type": "stream",
          "name": "stdout",
          "text": [
            "Maximum element in the Array a is:  5\n",
            "Maximum element in Arrray b is :  8\n",
            "Minimum element in the Arrray a is :  1\n",
            "Minimum element in Arrray b is : 4\n"
          ]
        }
      ]
    },
    {
      "cell_type": "code",
      "source": [
        "import numpy as np\n",
        "a=np.array([[1,2,3],\n",
        "            [4,5,6],\n",
        "            [7,8,9]])\n",
        "print(\"Minimum element int the array is : \",np.min(a))\n",
        "print(\"Maximum element in the array is :\",np.max(a))"
      ],
      "metadata": {
        "colab": {
          "base_uri": "https://localhost:8080/"
        },
        "id": "hYqF_GgkgH1S",
        "outputId": "6da3a196-2bc5-4d10-abde-25a8514df428"
      },
      "execution_count": 33,
      "outputs": [
        {
          "output_type": "stream",
          "name": "stdout",
          "text": [
            "Minimum element int the array is :  1\n",
            "Maximum element in the array is : 9\n"
          ]
        }
      ]
    },
    {
      "cell_type": "code",
      "source": [
        "import numpy as np\n",
        "a=np.array([[1,2,3],\n",
        "            [4,5,6],\n",
        "            [10,11,13]])\n",
        "\n",
        "max_col=np.max(a,0)\n",
        "max_row=np.max(a,1)\n",
        "min_col=np.min(a,0)\n",
        "min_row=np.min(a,1)\n",
        "\n",
        "print(\"Maximum element in the column is : \",max_col)\n",
        "print(\"Maximum element in the row is    : \",max_row)\n",
        "print(\"Minimum element in the column is : \",min_col)\n",
        "print(\"Minimum element in the column is : \",min_row)"
      ],
      "metadata": {
        "colab": {
          "base_uri": "https://localhost:8080/"
        },
        "id": "333JBm6bgrEd",
        "outputId": "6a2be02b-b39b-4eb0-c5fb-2668152cec62"
      },
      "execution_count": 35,
      "outputs": [
        {
          "output_type": "stream",
          "name": "stdout",
          "text": [
            "Maximum element in the column is :  [10 11 13]\n",
            "Maximum element in the row is    :  [ 3  6 13]\n",
            "Minimum element in the column is :  [1 2 3]\n",
            "Minimum element in the column is :  [ 1  4 10]\n"
          ]
        }
      ]
    }
  ]
}