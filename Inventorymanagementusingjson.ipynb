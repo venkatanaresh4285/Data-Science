{
 "cells": [
  {
   "cell_type": "code",
   "execution_count": 2,
   "id": "8ee619e3",
   "metadata": {},
   "outputs": [],
   "source": [
    "record={\n",
    "    4285:{\"Name\":'5-Star',\"PRICE\":150,\"Quantity\":100},\n",
    "    4290:{\"Name\":'Milkybar',\"PRICE\":120,\"Quantity\":80},\n",
    "    4291:{\"Name\":'Milkybar',\"PRICE\":180,\"Quantity\":120},\n",
    "    4274:{\"Name\":'Choclate',\"PRICE\":120,\"Quantity\":80},\n",
    "    4273:{\"Name\":'Cool Drinks',\"PRICE\":99,\"Quantity\":120},\n",
    "    4272:{\"Name\":'Shakes',\"PRICE\":180,\"Quantity\":110}\n",
    "}"
   ]
  },
  {
   "cell_type": "code",
   "execution_count": 4,
   "id": "f9040f4b",
   "metadata": {},
   "outputs": [
    {
     "name": "stdout",
     "output_type": "stream",
     "text": [
      "{4285: {'Name': '5-Star', 'PRICE': 150, 'Quantity': 100}, 4290: {'Name': 'Milkybar', 'PRICE': 120, 'Quantity': 80}, 4291: {'Name': 'Milkybar', 'PRICE': 180, 'Quantity': 120}, 4274: {'Name': 'Choclate', 'PRICE': 120, 'Quantity': 80}, 4273: {'Name': 'Cool Drinks', 'PRICE': 99, 'Quantity': 120}, 4272: {'Name': 'Shakes', 'PRICE': 180, 'Quantity': 110}} "
     ]
    }
   ],
   "source": [
    "print(record,end=\" \")"
   ]
  },
  {
   "cell_type": "code",
   "execution_count": 5,
   "id": "7e567603",
   "metadata": {},
   "outputs": [
    {
     "data": {
      "text/plain": [
       "{4285: {'Name': '5-Star', 'PRICE': 150, 'Quantity': 100},\n",
       " 4290: {'Name': 'Milkybar', 'PRICE': 120, 'Quantity': 80},\n",
       " 4291: {'Name': 'Milkybar', 'PRICE': 180, 'Quantity': 120},\n",
       " 4274: {'Name': 'Choclate', 'PRICE': 120, 'Quantity': 80},\n",
       " 4273: {'Name': 'Cool Drinks', 'PRICE': 99, 'Quantity': 120},\n",
       " 4272: {'Name': 'Shakes', 'PRICE': 180, 'Quantity': 110}}"
      ]
     },
     "execution_count": 5,
     "metadata": {},
     "output_type": "execute_result"
    }
   ],
   "source": [
    "record"
   ]
  },
  {
   "cell_type": "code",
   "execution_count": 41,
   "id": "6e29786d",
   "metadata": {},
   "outputs": [
    {
     "data": {
      "text/plain": [
       "{'Name': '5-Star', 'PRICE': 150, 'Quantity': 100}"
      ]
     },
     "execution_count": 41,
     "metadata": {},
     "output_type": "execute_result"
    }
   ],
   "source": [
    "record[4285]"
   ]
  },
  {
   "cell_type": "code",
   "execution_count": 26,
   "id": "30a2fd68",
   "metadata": {},
   "outputs": [
    {
     "data": {
      "text/plain": [
       "{'Name': 'Milkybar', 'PRICE': 180, 'Quantity': 120}"
      ]
     },
     "execution_count": 26,
     "metadata": {},
     "output_type": "execute_result"
    }
   ],
   "source": [
    "record[4291]"
   ]
  },
  {
   "cell_type": "code",
   "execution_count": 27,
   "id": "1e9d195d",
   "metadata": {},
   "outputs": [
    {
     "data": {
      "text/plain": [
       "'Milkybar'"
      ]
     },
     "execution_count": 27,
     "metadata": {},
     "output_type": "execute_result"
    }
   ],
   "source": [
    "record[4290]['Name']"
   ]
  },
  {
   "cell_type": "code",
   "execution_count": null,
   "id": "8537e2da",
   "metadata": {},
   "outputs": [],
   "source": []
  },
  {
   "cell_type": "code",
   "execution_count": 11,
   "id": "d4a08533",
   "metadata": {},
   "outputs": [
    {
     "ename": "KeyError",
     "evalue": "'Naresh'",
     "output_type": "error",
     "traceback": [
      "\u001b[1;31m---------------------------------------------------------------------------\u001b[0m",
      "\u001b[1;31mKeyError\u001b[0m                                  Traceback (most recent call last)",
      "Cell \u001b[1;32mIn[11], line 1\u001b[0m\n\u001b[1;32m----> 1\u001b[0m record[\u001b[38;5;124m'\u001b[39m\u001b[38;5;124mNaresh\u001b[39m\u001b[38;5;124m'\u001b[39m]\n",
      "\u001b[1;31mKeyError\u001b[0m: 'Naresh'"
     ]
    }
   ],
   "source": []
  },
  {
   "cell_type": "code",
   "execution_count": 29,
   "id": "e6157436",
   "metadata": {},
   "outputs": [
    {
     "ename": "KeyError",
     "evalue": "'Roll'",
     "output_type": "error",
     "traceback": [
      "\u001b[1;31m---------------------------------------------------------------------------\u001b[0m",
      "\u001b[1;31mKeyError\u001b[0m                                  Traceback (most recent call last)",
      "Cell \u001b[1;32mIn[29], line 1\u001b[0m\n\u001b[1;32m----> 1\u001b[0m record[\u001b[38;5;241m4291\u001b[39m][\u001b[38;5;124m'\u001b[39m\u001b[38;5;124mRoll\u001b[39m\u001b[38;5;124m'\u001b[39m]\n",
      "\u001b[1;31mKeyError\u001b[0m: 'Roll'"
     ]
    }
   ],
   "source": [
    "record[4291]['Roll']"
   ]
  },
  {
   "cell_type": "code",
   "execution_count": 1,
   "id": "c5ccc165",
   "metadata": {
    "scrolled": false
   },
   "outputs": [
    {
     "name": "stdout",
     "output_type": "stream",
     "text": [
      "----------------MENU---------------------------\n",
      "4285 : 5-Star -- 150 -- 100\n",
      "4290 : Milkybar -- 120 -- 80\n",
      "4291 : Milkybar -- 180 -- 120\n",
      "4274 : Choclate -- 120 -- 80\n",
      "4273 : Cool Drinks -- 99 -- 120\n",
      "4272 : Shakes -- 180 -- 110\n",
      "-----------------------------------------------\n",
      "Enter  Product id :4285\n",
      "Enter  Quantity   :3\n",
      "{'Name': '5-Star', 'PRICE': 150, 'Quantity': 100}\n",
      "--------------BILL---------------------------\n",
      "Name             :  5-Star\n",
      "Quantity         :  3\n",
      "Price Of Product (Rs) :  150\n",
      "---------------BILLING-------------------------\n",
      "Billing Amount is (Rs):  450\n"
     ]
    }
   ],
   "source": [
    "import json\n",
    "record={\n",
    "    4285:{\"Name\":'5-Star',\"PRICE\":150,\"Quantity\":100},\n",
    "    4290:{\"Name\":'Milkybar',\"PRICE\":120,\"Quantity\":80},\n",
    "    4291:{\"Name\":'Milkybar',\"PRICE\":180,\"Quantity\":120},\n",
    "    4274:{\"Name\":'Choclate',\"PRICE\":120,\"Quantity\":80},\n",
    "    4273:{\"Name\":'Cool Drinks',\"PRICE\":99,\"Quantity\":120},\n",
    "    4272:{\"Name\":'Shakes',\"PRICE\":180,\"Quantity\":110}\n",
    "}\n",
    "\n",
    "\n",
    "print(\"----------------MENU---------------------------\")\n",
    "\n",
    "for key in record.keys():\n",
    "    print(key,\":\",record[key]['Name'] ,\"--\",record[key]['PRICE'],\"--\",record[key]['Quantity'])\n",
    "print(\"-----------------------------------------------\")\n",
    "ur_pd=int(input(\"Enter  Product id :\"))\n",
    "ur_qn=int(input(\"Enter  Quantity   :\"))\n",
    "print(record[ur_pd])\n",
    "print('--------------BILL---------------------------')\n",
    "print(\"Name             : \",record[ur_pd]['Name'])\n",
    "print(\"Quantity         : \",ur_qn)\n",
    "print(\"Price Of Product (Rs) : \",record[ur_pd][\"PRICE\"])\n",
    "print(\"---------------BILLING-------------------------\")\n",
    "print(\"Billing Amount is (Rs): \",ur_qn*record[ur_pd][\"PRICE\"])"
   ]
  },
  {
   "cell_type": "code",
   "execution_count": 2,
   "id": "5fd30f22",
   "metadata": {},
   "outputs": [
    {
     "data": {
      "text/plain": [
       "{4285: {'Name': '5-Star', 'PRICE': 150, 'Quantity': 100},\n",
       " 4290: {'Name': 'Milkybar', 'PRICE': 120, 'Quantity': 80},\n",
       " 4291: {'Name': 'Milkybar', 'PRICE': 180, 'Quantity': 120},\n",
       " 4274: {'Name': 'Choclate', 'PRICE': 120, 'Quantity': 80},\n",
       " 4273: {'Name': 'Cool Drinks', 'PRICE': 99, 'Quantity': 120},\n",
       " 4272: {'Name': 'Shakes', 'PRICE': 180, 'Quantity': 110}}"
      ]
     },
     "execution_count": 2,
     "metadata": {},
     "output_type": "execute_result"
    }
   ],
   "source": [
    "record"
   ]
  },
  {
   "cell_type": "code",
   "execution_count": 3,
   "id": "1c2bfa6e",
   "metadata": {},
   "outputs": [
    {
     "ename": "TypeError",
     "evalue": "dump() missing 1 required positional argument: 'fp'",
     "output_type": "error",
     "traceback": [
      "\u001b[1;31m---------------------------------------------------------------------------\u001b[0m",
      "\u001b[1;31mTypeError\u001b[0m                                 Traceback (most recent call last)",
      "Cell \u001b[1;32mIn[3], line 1\u001b[0m\n\u001b[1;32m----> 1\u001b[0m json\u001b[38;5;241m.\u001b[39mdump(record)\n",
      "\u001b[1;31mTypeError\u001b[0m: dump() missing 1 required positional argument: 'fp'"
     ]
    }
   ],
   "source": [
    "json.dumps(record)"
   ]
  },
  {
   "cell_type": "code",
   "execution_count": null,
   "id": "e06639a7",
   "metadata": {},
   "outputs": [],
   "source": []
  }
 ],
 "metadata": {
  "kernelspec": {
   "display_name": "Python 3 (ipykernel)",
   "language": "python",
   "name": "python3"
  },
  "language_info": {
   "codemirror_mode": {
    "name": "ipython",
    "version": 3
   },
   "file_extension": ".py",
   "mimetype": "text/x-python",
   "name": "python",
   "nbconvert_exporter": "python",
   "pygments_lexer": "ipython3",
   "version": "3.11.5"
  }
 },
 "nbformat": 4,
 "nbformat_minor": 5
}
