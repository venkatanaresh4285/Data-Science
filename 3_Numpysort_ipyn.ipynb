{
  "nbformat": 4,
  "nbformat_minor": 0,
  "metadata": {
    "colab": {
      "provenance": [],
      "authorship_tag": "ABX9TyMO+a2OtSBFfTgF6B9dVDIM",
      "include_colab_link": true
    },
    "kernelspec": {
      "name": "python3",
      "display_name": "Python 3"
    },
    "language_info": {
      "name": "python"
    }
  },
  "cells": [
    {
      "cell_type": "markdown",
      "metadata": {
        "id": "view-in-github",
        "colab_type": "text"
      },
      "source": [
        "<a href=\"https://colab.research.google.com/github/venkatanaresh4285/Data-Science/blob/main/3_Numpysort_ipyn.ipynb\" target=\"_parent\"><img src=\"https://colab.research.google.com/assets/colab-badge.svg\" alt=\"Open In Colab\"/></a>"
      ]
    },
    {
      "cell_type": "code",
      "execution_count": null,
      "metadata": {
        "id": "K_TognRXzql8"
      },
      "outputs": [],
      "source": [
        "import numpy as np\n"
      ]
    },
    {
      "cell_type": "code",
      "source": [
        "a=np.array([[10,15],\n",
        "            [12,1]])\n",
        "print(\"Sorting though columns \",np.sort(a,axis=0))"
      ],
      "metadata": {
        "colab": {
          "base_uri": "https://localhost:8080/"
        },
        "id": "6VpzSy-JzyEN",
        "outputId": "1aa0ab73-2aa2-4708-ac1d-6ef61fcf411b"
      },
      "execution_count": null,
      "outputs": [
        {
          "output_type": "stream",
          "name": "stdout",
          "text": [
            "The sort of given a is  [[10  1]\n",
            " [12 15]]\n"
          ]
        }
      ]
    },
    {
      "cell_type": "code",
      "source": [
        "a=np.array([[20,10],[23,12]])\n",
        "print(\"Sorting through rows \",np.sort(a,axis=-1))"
      ],
      "metadata": {
        "colab": {
          "base_uri": "https://localhost:8080/"
        },
        "id": "7pdl23lD0Ydc",
        "outputId": "a1ef3414-3b5b-47f6-ad47-c6dcf4027914"
      },
      "execution_count": null,
      "outputs": [
        {
          "output_type": "stream",
          "name": "stdout",
          "text": [
            "Sorting through rows  [[10 20]\n",
            " [12 23]]\n"
          ]
        }
      ]
    },
    {
      "cell_type": "code",
      "source": [
        "a=np.array([[20,10],[23,12]])\n",
        "print(\"Sorting through rows \",np.sort(a,axis=None))"
      ],
      "metadata": {
        "colab": {
          "base_uri": "https://localhost:8080/"
        },
        "id": "AZ7KFjow0yvZ",
        "outputId": "6f59c490-c973-4a91-eec5-f2bae43f6a02"
      },
      "execution_count": null,
      "outputs": [
        {
          "output_type": "stream",
          "name": "stdout",
          "text": [
            "Sorting through rows  [10 12 20 23]\n"
          ]
        }
      ]
    },
    {
      "cell_type": "code",
      "source": [
        "import numpy as np\n",
        "arr = np.array([[7,3,8,6,4], [7,2,9,8,6],[5,4,2,3,1]])\n",
        "print(np.sort(arr , axis = 1, kind = 'mergesort'))\n",
        "print()\n",
        "print(np.sort(arr , axis = 0, kind = 'quicksort'))\n",
        "print()\n",
        "print(np.sort(arr , kind = 'heapsort'))"
      ],
      "metadata": {
        "id": "cZKhKucR1DVF",
        "colab": {
          "base_uri": "https://localhost:8080/"
        },
        "outputId": "dec22037-a8cf-4dd0-dbca-4a4cd99c8ce3"
      },
      "execution_count": 1,
      "outputs": [
        {
          "output_type": "stream",
          "name": "stdout",
          "text": [
            "[[3 4 6 7 8]\n",
            " [2 6 7 8 9]\n",
            " [1 2 3 4 5]]\n",
            "\n",
            "[[5 2 2 3 1]\n",
            " [7 3 8 6 4]\n",
            " [7 4 9 8 6]]\n",
            "\n",
            "[[3 4 6 7 8]\n",
            " [2 6 7 8 9]\n",
            " [1 2 3 4 5]]\n"
          ]
        }
      ]
    },
    {
      "cell_type": "code",
      "source": [],
      "metadata": {
        "id": "dKRW-f5jJ6z8"
      },
      "execution_count": null,
      "outputs": []
    },
    {
      "cell_type": "code",
      "source": [],
      "metadata": {
        "id": "yHy1ZNLDJ7KO"
      },
      "execution_count": null,
      "outputs": []
    }
  ]
}